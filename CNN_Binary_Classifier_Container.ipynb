{
  "cells": [
    {
      "cell_type": "markdown",
      "metadata": {
        "id": "view-in-github",
        "colab_type": "text"
      },
      "source": [
        "<a href=\"https://colab.research.google.com/github/sajidkhan2067/DDoSAttackDetectionUsingCNN/blob/main/CNN_Binary_Classifier_Container.ipynb\" target=\"_parent\"><img src=\"https://colab.research.google.com/assets/colab-badge.svg\" alt=\"Open In Colab\"/></a>"
      ]
    },
    {
      "cell_type": "markdown",
      "metadata": {
        "id": "BUOSRWgeExJV"
      },
      "source": [
        "# Import the required modules."
      ]
    },
    {
      "cell_type": "code",
      "execution_count": null,
      "metadata": {
        "id": "HpKmKzSs0cJ8"
      },
      "outputs": [],
      "source": [
        "from datetime import datetime as dt"
      ]
    },
    {
      "cell_type": "code",
      "execution_count": null,
      "metadata": {
        "id": "1fJk7zmMjcFm"
      },
      "outputs": [],
      "source": [
        "import numpy as np\n",
        "import pandas as pd\n",
        "import matplotlib.pyplot as plt\n",
        "import seaborn as sns; sns.set()\n",
        "import ipaddress\n",
        "import tensorflow as tf\n",
        "from sklearn.metrics import mean_squared_error\n",
        "from sklearn import metrics\n"
      ]
    },
    {
      "cell_type": "code",
      "execution_count": null,
      "metadata": {
        "id": "MOKVbdzBjlmP"
      },
      "outputs": [],
      "source": [
        "from keras.models import Sequential, load_model\n",
        "from keras.utils.np_utils import to_categorical\n",
        "from keras.utils import np_utils\n",
        "from sklearn.model_selection import train_test_split\n",
        "from sklearn.preprocessing import LabelEncoder, StandardScaler\n",
        "from sklearn.metrics import confusion_matrix"
      ]
    },
    {
      "cell_type": "markdown",
      "metadata": {
        "id": "nmnyn-aRExJd"
      },
      "source": []
    },
    {
      "cell_type": "code",
      "execution_count": null,
      "metadata": {
        "id": "u7H2jNs1csN2"
      },
      "outputs": [],
      "source": [
        "# # number of benign traffic row = 2*number_of_samples\n",
        "# number_of_samples = 100000\n",
        "# # number of attack traffic row = number_of_samples_attack\n",
        "# number_of_samples_attack =100000"
      ]
    },
    {
      "cell_type": "code",
      "execution_count": null,
      "metadata": {
        "colab": {
          "base_uri": "https://localhost:8080/"
        },
        "id": "02gLfrW8Za7i",
        "outputId": "466bebb7-8c1f-40ae-bab4-7e99ccb5b66b"
      },
      "outputs": [
        {
          "output_type": "stream",
          "name": "stdout",
          "text": [
            "Mounted at /content/drive\n"
          ]
        }
      ],
      "source": [
        "# First, we get the data\n",
        "from google.colab import drive\n",
        "drive.mount('/content/drive')"
      ]
    },
    {
      "cell_type": "markdown",
      "source": [
        "# Number of features"
      ],
      "metadata": {
        "id": "ySmk8hf-l9L6"
      }
    },
    {
      "cell_type": "code",
      "execution_count": null,
      "metadata": {
        "id": "euyvcxJH1Xsh"
      },
      "outputs": [],
      "source": [
        "features = ['Flow Duration', 'Fwd Packet Length Std', 'ACK Flag Count', 'Protocol', 'Total Fwd Packet', 'Total Bwd packets',\n",
        "    'Total Length of Fwd Packet', 'Total Length of Bwd Packet','Label']\n",
        "featuresWithoutLabel = ['Flow Duration', 'Fwd Packet Length Std', 'ACK Flag Count', 'Protocol', 'Total Fwd Packet', 'Total Bwd packets',\n",
        "    'Total Length of Fwd Packet', 'Total Length of Bwd Packet']"
      ]
    },
    {
      "cell_type": "markdown",
      "metadata": {
        "id": "bKJvzoIoExJe"
      },
      "source": [
        "# Read data from attack and normal datasets."
      ]
    },
    {
      "cell_type": "code",
      "source": [
        "dataset_sources = {\n",
        "    'attack': {\n",
        "        'path': '/content/drive/MyDrive/Colab Notebooks/LSTM/New_CiCflowmeter/ConTainerTB/Attack'\n",
        "    },\n",
        "     'benign': {\n",
        "        'path': '/content/drive/MyDrive/Colab Notebooks/LSTM/New_CiCflowmeter/ConTainerTB/Benign'\n",
        "     },\n",
        "}"
      ],
      "metadata": {
        "id": "45DLuBXMo7I3"
      },
      "execution_count": null,
      "outputs": []
    },
    {
      "cell_type": "code",
      "source": [
        "import os\n",
        "# Helper function to read CSV files form a given directory\n",
        "# directory_path: Directory where csv files located\n",
        "# limit: limit the sample based on parameter set while calling the function\n",
        "\n",
        "def read_all_csv_files(directory_path, features, limit=1000000):\n",
        "    # Initialize an empty list to store dataframes from CSV files\n",
        "    dataframes = []\n",
        "\n",
        "    # Get a list of all files in the directory\n",
        "    file_list = os.listdir(directory_path)\n",
        "\n",
        "    # Loop through each file and check if it's a CSV file\n",
        "    for file_name in file_list:\n",
        "        if file_name.endswith('.csv'):\n",
        "            # Get the full file path\n",
        "            file_path = os.path.join(directory_path, file_name)\n",
        "            # Read the CSV file into a pandas DataFrame\n",
        "            df = pd.read_csv(file_path)\n",
        "            # Remove leading and trailing spaces from column names\n",
        "            df.columns = df.columns.str.strip()\n",
        "            # Append the DataFrame to the list\n",
        "            dataframes.append(df[features])\n",
        "\n",
        "    # Merge all DataFrames into a single DataFrame\n",
        "    merged_df = pd.concat(dataframes, ignore_index=True)\n",
        "    print(\"Initial Row: {}\".format(merged_df.shape[0]))\n",
        "\n",
        "        #applying limit if row_count > limit\n",
        "    if len(merged_df) > limit:\n",
        "        print(\"As Row Exceeds {0}, we are taking upto {1} rows\".format(limit, limit))\n",
        "        merged_df = merged_df.sample(limit) #set the random_sate so that everytime this will pull the same random numbers\n",
        "\n",
        "    return merged_df"
      ],
      "metadata": {
        "id": "rz452cO5rtAX"
      },
      "execution_count": null,
      "outputs": []
    },
    {
      "cell_type": "code",
      "source": [
        "# Sanitize teh data frame\n",
        "# Remove null values\n",
        "# Remove infinte values\n",
        "\n",
        "def sanitize_data_frames_updated(dataframe, limit=1000000, remove_infinity=True, remove_null=True):\n",
        "    print(\"Before Santization Row Count:\", dataframe.shape[0])\n",
        "\n",
        "    if remove_infinity:\n",
        "        numeric_cols = dataframe.select_dtypes(include=[np.number]).columns\n",
        "        infinite_counts = dataframe[numeric_cols].applymap(np.isinf).sum()\n",
        "        for col, count in infinite_counts.items():\n",
        "            if count != 0:\n",
        "                print(f\"Column '{col}' contains {count} infinite values.\")\n",
        "                if limit is not None:\n",
        "                    dataframe = dataframe[~np.isinf(dataframe[col])]\n",
        "\n",
        "    if remove_null:\n",
        "        null_counts = dataframe.isnull().sum()\n",
        "        for col, count in null_counts.items():\n",
        "            if count != 0:\n",
        "                print(f\"Column '{col}' contains {count} null values.\")\n",
        "                if limit is not None:\n",
        "                    dataframe = dataframe.dropna(subset=[col])\n",
        "\n",
        "    print(\"Sanitized Row Count:\", dataframe.shape[0])\n",
        "    return dataframe\n"
      ],
      "metadata": {
        "id": "oFozuqo6sla4"
      },
      "execution_count": null,
      "outputs": []
    },
    {
      "cell_type": "code",
      "source": [
        "# Read the data\n",
        "from tqdm import tqdm\n",
        "for key, element in tqdm(dataset_sources.items(), total=len(dataset_sources)):\n",
        "    print(\"Loading.....{0}.......\".format(key))\n",
        "    directory_path = element['path']\n",
        "    print(\"Directory: {0}\".format(directory_path))\n",
        "    dataframe = read_all_csv_files(directory_path, features)\n",
        "    dataframe = sanitize_data_frames_updated(dataframe)\n",
        "    #print(dataframe.describe())\n",
        "    locals()[key] = dataframe\n",
        "    dataframe.describe()\n",
        "    print(\"END.....{0}.......\".format(key))\n",
        "    print(\"\\n\\n\")"
      ],
      "metadata": {
        "colab": {
          "base_uri": "https://localhost:8080/"
        },
        "id": "B6WqZriprD99",
        "outputId": "2bc2ac07-ee17-410a-8f5d-cb9bed0e9c0b"
      },
      "execution_count": null,
      "outputs": [
        {
          "output_type": "stream",
          "name": "stderr",
          "text": [
            "\r  0%|          | 0/2 [00:00<?, ?it/s]"
          ]
        },
        {
          "output_type": "stream",
          "name": "stdout",
          "text": [
            "Loading.....attack.......\n",
            "Directory: /content/drive/MyDrive/Colab Notebooks/LSTM/New_CiCflowmeter/ConTainerTB/Attack\n",
            "Initial Row: 5481810\n",
            "As Row Exceeds 1000000, we are taking upto 1000000 rows\n",
            "Before Santization Row Count: 1000000\n",
            "Sanitized Row Count: 1000000\n"
          ]
        },
        {
          "output_type": "stream",
          "name": "stderr",
          "text": [
            "\r 50%|█████     | 1/2 [01:55<01:55, 115.43s/it]"
          ]
        },
        {
          "output_type": "stream",
          "name": "stdout",
          "text": [
            "END.....attack.......\n",
            "\n",
            "\n",
            "\n",
            "Loading.....benign.......\n",
            "Directory: /content/drive/MyDrive/Colab Notebooks/LSTM/New_CiCflowmeter/ConTainerTB/Benign\n",
            "Initial Row: 689505\n",
            "Before Santization Row Count: 689505\n",
            "Sanitized Row Count: 689505\n"
          ]
        },
        {
          "output_type": "stream",
          "name": "stderr",
          "text": [
            "100%|██████████| 2/2 [02:19<00:00, 69.88s/it]"
          ]
        },
        {
          "output_type": "stream",
          "name": "stdout",
          "text": [
            "END.....benign.......\n",
            "\n",
            "\n",
            "\n"
          ]
        },
        {
          "output_type": "stream",
          "name": "stderr",
          "text": [
            "\n"
          ]
        }
      ]
    },
    {
      "cell_type": "code",
      "source": [
        "for key, element in dataset_sources.items():\n",
        "    print('{0}: {1}'.format(key, locals()[key].shape))\n",
        "    if \"{0}\".format(key) == \"attack\":\n",
        "      dfAttack = locals()[key]\n",
        "    elif \"{0}\".format(key) == \"benign\":\n",
        "      dfBenign = locals()[key]\n",
        "    print(\"{0}\".format(key))\n",
        "    print(locals()[key].shape[0])\n",
        "\n",
        "\n",
        "print(dfAttack.shape)\n",
        "print(dfBenign.shape)"
      ],
      "metadata": {
        "colab": {
          "base_uri": "https://localhost:8080/"
        },
        "id": "10Yu43Dot1_u",
        "outputId": "6feeffa2-2844-4bb8-e2e0-50859ba135bd"
      },
      "execution_count": null,
      "outputs": [
        {
          "output_type": "stream",
          "name": "stdout",
          "text": [
            "attack: (1000000, 9)\n",
            "attack\n",
            "1000000\n",
            "benign: (689505, 9)\n",
            "benign\n",
            "689505\n",
            "(1000000, 9)\n",
            "(689505, 9)\n"
          ]
        }
      ]
    },
    {
      "cell_type": "code",
      "execution_count": null,
      "metadata": {
        "id": "xuqcRePLnMYn"
      },
      "outputs": [],
      "source": [
        "default_value = 'attack'\n",
        "dfAttack = dfAttack.assign(Label=default_value)\n",
        "\n"
      ]
    },
    {
      "cell_type": "code",
      "execution_count": null,
      "metadata": {
        "id": "wZ-wlBPmnTfg"
      },
      "outputs": [],
      "source": [
        "default_value = 'Benign'\n",
        "dfBenign = dfBenign.assign(Label=default_value)\n"
      ]
    },
    {
      "cell_type": "code",
      "execution_count": null,
      "metadata": {
        "colab": {
          "base_uri": "https://localhost:8080/"
        },
        "id": "_eFcpOMfvs64",
        "outputId": "296ccbef-0536-401d-ca80-a2ec7ee17717"
      },
      "outputs": [
        {
          "output_type": "stream",
          "name": "stdout",
          "text": [
            "(689505, 9)\n",
            "(1000000, 9)\n"
          ]
        }
      ],
      "source": [
        "print(dfBenign.shape)\n",
        "print(dfAttack.shape)"
      ]
    },
    {
      "cell_type": "markdown",
      "metadata": {
        "id": "L0p5MOAvxHwY"
      },
      "source": [
        "**Various shapes are showing from different data frames**"
      ]
    },
    {
      "cell_type": "code",
      "execution_count": null,
      "metadata": {
        "colab": {
          "base_uri": "https://localhost:8080/"
        },
        "id": "7IxNpgX5kAMg",
        "outputId": "de1850f3-298b-4c16-c6b8-04b0a55f1472"
      },
      "outputs": [
        {
          "output_type": "stream",
          "name": "stdout",
          "text": [
            "(689505, 9)\n",
            "(689505, 9)\n",
            "(1379010, 8)\n",
            "(8,)\n",
            "1379010\n",
            "689505\n",
            "689505\n",
            "689505\n",
            "689505\n"
          ]
        }
      ],
      "source": [
        "dfAttack=dfAttack.sample(n=dfBenign.shape[0])\n",
        "print(dfAttack.shape)\n",
        "print(dfBenign.shape)\n",
        "\n",
        "Y_normal = pd.concat([pd.DataFrame(dfBenign['Label'])], axis=0)\n",
        "# Y_normal=Y_normal.sample(n=number_of_samples_attack)\n",
        "\n",
        "Y_attack= pd.concat([pd.DataFrame(dfAttack['Label'])], axis=0)\n",
        "# Y_attack=Y_attack.sample(n=Y_normal.shape[0],replace=True)\n",
        "\n",
        "X_normal = pd.concat([pd.DataFrame(dfBenign[featuresWithoutLabel].values)], axis=0)\n",
        "\n",
        "X_attack = pd.concat([pd.DataFrame(dfAttack[featuresWithoutLabel].values)], axis=0)\n",
        "\n",
        "\n",
        "X=np.concatenate((X_normal,X_attack))\n",
        "\n",
        "\n",
        "print(X.shape)\n",
        "print(X[0].shape)\n",
        "print(len(X))\n",
        "print(len(X_normal))\n",
        "print(len(X_attack))\n",
        "\n",
        "print(len(Y_normal))\n",
        "print(len(Y_attack))\n",
        "\n",
        "Y_attack=Y_attack.values.flatten()\n",
        "Y_normal=Y_normal.values.flatten()\n",
        "\n",
        "\n",
        "Y=np.concatenate((Y_normal,Y_attack))\n",
        "\n"
      ]
    },
    {
      "cell_type": "markdown",
      "metadata": {
        "id": "pL1bwPD1ExJk"
      },
      "source": [
        "# Standardise the data"
      ]
    },
    {
      "cell_type": "code",
      "execution_count": null,
      "metadata": {
        "colab": {
          "base_uri": "https://localhost:8080/"
        },
        "id": "b3xIr2rRkWMX",
        "outputId": "7ce39f70-61b3-4547-96e6-18235a68c5ce"
      },
      "outputs": [
        {
          "output_type": "stream",
          "name": "stdout",
          "text": [
            "[[-0.48232136  0.11080572 -0.00329747 -0.27218613 -0.00396986 -0.00431188\n",
            "  -0.0342531  -0.0049823 ]\n",
            " [-0.48427226  0.62078238 -0.00377456 -0.27218613 -0.00445065 -0.00478556\n",
            "  -0.03734249 -0.00476571]\n",
            " [-0.48727732 -0.63458491 -0.00616001 -0.27218613 -0.00877773 -0.00636446\n",
            "  -0.09104349 -0.00569176]\n",
            " [-0.4842515   0.7482598  -0.00425165 -0.27218613 -0.00541222 -0.00510134\n",
            "  -0.03734249 -0.00500424]\n",
            " [-0.48727505 -0.63458491 -0.00616001 -0.27218613 -0.00877773 -0.00636446\n",
            "  -0.09104349 -0.00569176]]\n",
            "(1379010, 8)\n"
          ]
        }
      ],
      "source": [
        "scalar = StandardScaler(copy=True, with_mean=True, with_std=True)\n",
        "scalar.fit(X)\n",
        "X = scalar.transform(X)\n",
        "print(X[0:5])\n",
        "print(X.shape)"
      ]
    },
    {
      "cell_type": "markdown",
      "metadata": {
        "id": "nmLOn_vBExJl"
      },
      "source": [
        "# The class field, replace value 'attack' with 0 and 'normal' with 1"
      ]
    },
    {
      "cell_type": "code",
      "execution_count": null,
      "metadata": {
        "id": "0U1VeOtEkYBX"
      },
      "outputs": [],
      "source": [
        "for i in range(0,len(Y)):\n",
        "  # print(Y[i])\n",
        "  if Y[i] ==\"attack\":\n",
        "    Y[i]=0\n",
        "  else:\n",
        "    Y[i]=1\n",
        "\n"
      ]
    },
    {
      "cell_type": "code",
      "execution_count": null,
      "metadata": {
        "id": "XJU1WjE7TocF"
      },
      "outputs": [],
      "source": [
        "# I = np.expand_dims(X, -1)\n",
        "#reshape data to fit model\n",
        "X= X.reshape(X.shape[0], X.shape[1], 1)"
      ]
    },
    {
      "cell_type": "code",
      "execution_count": null,
      "metadata": {
        "colab": {
          "base_uri": "https://localhost:8080/"
        },
        "id": "tWSnDbTIM8uC",
        "outputId": "0f7a8fe8-99f7-45d1-a3fc-934c26cdf01d"
      },
      "outputs": [
        {
          "output_type": "stream",
          "name": "stdout",
          "text": [
            "[[[-0.4872743 ]\n",
            "  [-0.63458491]\n",
            "  [-0.00616001]\n",
            "  [-0.27218613]\n",
            "  [-0.00877773]\n",
            "  [-0.00636446]\n",
            "  [-0.09104349]\n",
            "  [-0.00569176]]]\n",
            "(1379010, 8, 1)\n"
          ]
        }
      ],
      "source": [
        "print(X[198:199])\n",
        "print(X.shape)\n",
        "\n"
      ]
    },
    {
      "cell_type": "code",
      "execution_count": null,
      "metadata": {
        "id": "1l5ft9AblBln"
      },
      "outputs": [],
      "source": [
        "X_train, X_test, Y_train, Y_test = train_test_split(X, Y, test_size = 0.2)"
      ]
    },
    {
      "cell_type": "code",
      "execution_count": null,
      "metadata": {
        "colab": {
          "base_uri": "https://localhost:8080/"
        },
        "id": "tqH1N1zzraKq",
        "outputId": "63b98786-0070-44a0-de9f-04b70283bae9"
      },
      "outputs": [
        {
          "output_type": "stream",
          "name": "stdout",
          "text": [
            "(1379010, 8, 1)\n",
            "(1103208, 8, 1)\n",
            "(275802, 8, 1)\n",
            " \n",
            "(1103208,)\n",
            "(275802,)\n"
          ]
        }
      ],
      "source": [
        "print(X.shape)\n",
        "# print(I.shape)\n",
        "print(X_train.shape)\n",
        "print(X_test.shape)\n",
        "print(\" \")\n",
        "print(Y_train.shape)\n",
        "print(Y_test.shape)"
      ]
    },
    {
      "cell_type": "markdown",
      "metadata": {
        "id": "eZZP2YnHExJo"
      },
      "source": [
        "The architecture of the model"
      ]
    },
    {
      "cell_type": "code",
      "execution_count": null,
      "metadata": {
        "id": "SzHoR1ewdODm"
      },
      "outputs": [],
      "source": [
        "import itertools\n",
        "\n",
        "from keras.utils.np_utils import to_categorical # convert to one-hot-encoding\n",
        "from keras.models import Sequential\n",
        "from keras.layers import Dense, Dropout, Flatten, Conv1D, MaxPool1D\n",
        "from keras.optimizers import RMSprop,Adam\n",
        "from keras.callbacks import ReduceLROnPlateau\n",
        "\n",
        "def create_baseline():\n",
        "    model = Sequential()\n",
        "#\n",
        "   #add model layers\n",
        "    model.add(Conv1D(64, kernel_size=2, activation='relu', input_shape=(len(featuresWithoutLabel),1)))\n",
        "    model.add(Conv1D(32, kernel_size=2, activation='relu'))\n",
        "    model.add(Flatten())\n",
        "    model.add(Dense(1, activation='sigmoid'))\n",
        "\n",
        "    model.compile(loss = 'binary_crossentropy', optimizer = 'adam', metrics = ['accuracy'])\n",
        "\n",
        "    return model"
      ]
    },
    {
      "cell_type": "code",
      "execution_count": null,
      "metadata": {
        "id": "fW-zMrYFdVP9"
      },
      "outputs": [],
      "source": [
        "model = create_baseline()\n",
        "# print(Y_train[1000:len(Y_train)])\n"
      ]
    },
    {
      "cell_type": "markdown",
      "source": [
        "# Saving and loading model"
      ],
      "metadata": {
        "id": "zN4a76f4lTeC"
      }
    },
    {
      "cell_type": "code",
      "source": [
        "from keras.callbacks import EarlyStopping\n",
        "import time\n",
        "# print(X_train)\n",
        "\n",
        "Y_train=Y_train.astype(float)\n",
        "# print(Y_train)\n",
        "start_time = time.time()\n",
        "\n",
        "model_path = \"/content/drive/MyDrive/MLModel/cnn_container_model.keras\"\n",
        "history=None\n",
        "\n",
        "try:\n",
        "  model = load_model(model_path)\n",
        "  # history = model.history()\n",
        "  print(\"Model loaded successfully from\", model_path)\n",
        "except:\n",
        "  history = model.fit(X_train, Y_train, epochs=60,validation_split=0.2,callbacks=[EarlyStopping(monitor='val_loss',patience=7, min_delta=0.0001)])\n",
        "  model.save(model_path)\n",
        "  print(\"Model saved to\", model_path)\n",
        "\n",
        "print(model.summary())"
      ],
      "metadata": {
        "colab": {
          "base_uri": "https://localhost:8080/"
        },
        "id": "QUhK3fV0C198",
        "outputId": "27bc897a-be80-48eb-c45a-2d2da77ce8af"
      },
      "execution_count": null,
      "outputs": [
        {
          "output_type": "stream",
          "name": "stdout",
          "text": [
            "Model loaded successfully from /content/drive/MyDrive/MLModel/cnn_container_model.keras\n",
            "Model: \"sequential\"\n",
            "_________________________________________________________________\n",
            " Layer (type)                Output Shape              Param #   \n",
            "=================================================================\n",
            " conv1d (Conv1D)             (None, 7, 64)             192       \n",
            "                                                                 \n",
            " conv1d_1 (Conv1D)           (None, 6, 32)             4128      \n",
            "                                                                 \n",
            " flatten (Flatten)           (None, 192)               0         \n",
            "                                                                 \n",
            " dense (Dense)               (None, 1)                 193       \n",
            "                                                                 \n",
            "=================================================================\n",
            "Total params: 4,513\n",
            "Trainable params: 4,513\n",
            "Non-trainable params: 0\n",
            "_________________________________________________________________\n",
            "None\n"
          ]
        }
      ]
    },
    {
      "cell_type": "markdown",
      "source": [
        "#Prediction"
      ],
      "metadata": {
        "id": "V96FClcvlhjK"
      }
    },
    {
      "cell_type": "code",
      "execution_count": null,
      "metadata": {
        "id": "heMaPerEdn3c",
        "colab": {
          "base_uri": "https://localhost:8080/"
        },
        "outputId": "01074ed4-b38f-46bb-e80e-a8db0aebf0a5"
      },
      "outputs": [
        {
          "output_type": "stream",
          "name": "stdout",
          "text": [
            "8619/8619 [==============================] - 19s 2ms/step\n"
          ]
        }
      ],
      "source": [
        "predict = model.predict(X_test, verbose=1)"
      ]
    },
    {
      "cell_type": "markdown",
      "metadata": {
        "id": "UnqrJ985ExJr"
      },
      "source": [
        "#  Calculate True positive,True negetive,False positive and False negetive values. Then, Create Heatmap with all those values."
      ]
    },
    {
      "cell_type": "code",
      "execution_count": null,
      "metadata": {
        "id": "rAjFgVm6uGGp",
        "colab": {
          "base_uri": "https://localhost:8080/"
        },
        "outputId": "2c5ea784-830b-438f-d311-6317d2aacf7d"
      },
      "outputs": [
        {
          "output_type": "stream",
          "name": "stdout",
          "text": [
            "tp: 137958\n",
            "fn: 2\n",
            "fp: 100\n",
            "tn: 137744\n",
            "Accuracy: 0.9996301721512378\n",
            "Recall: 0.9999855030443607\n",
            "Precision: 0.9992756667487578\n",
            "F1 score: 0.999630\n",
            "FPR: 0.0007254577638489887\n",
            "FNR: 1.4496955639315744e-05\n",
            "far: 0.00036997735974415223\n",
            "0.0003698305305980377\n",
            "0.9996305709594226\n"
          ]
        }
      ],
      "source": [
        "tp = 1\n",
        "tn = 1\n",
        "fp = 0\n",
        "fn = 0\n",
        "predictn = predict.flatten().round()\n",
        "predictn = predictn.tolist()\n",
        "Y_testn = Y_test.tolist()\n",
        "for i in range(len(Y_testn)):\n",
        "  if predictn[i]==1 and Y_testn[i]==1:\n",
        "    tp+=1\n",
        "  elif predictn[i]==0 and Y_testn[i]==0:\n",
        "    tn+=1\n",
        "  elif predictn[i]==0 and Y_testn[i]==1:\n",
        "    fp+=1\n",
        "  elif predictn[i]==1 and Y_testn[i]==0:\n",
        "    fn+=1\n",
        "\n",
        "#Printing and calculating various values\n",
        "\n",
        "print('tp:',tp)\n",
        "print('fn:',fn)\n",
        "print('fp:',fp)\n",
        "print('tn:',tn)\n",
        "accuracy = (tp+tn)/(tp+tn+fn+fp)\n",
        "print('Accuracy:',accuracy)\n",
        "recall = tp/(tp+fn)\n",
        "print('Recall:',recall)\n",
        "precision = tp/(tp+fp)\n",
        "print('Precision:',precision)\n",
        "f1_score = 2*((precision*recall)/(precision+recall))\n",
        "print('F1 score: %f' % f1_score)\n",
        "FPR = fp/(fp + tn)\n",
        "print('FPR:' ,FPR)\n",
        "FNR = fn / (fn + tp)\n",
        "print('FNR:' ,FNR)\n",
        "far = (FPR+FNR)/2\n",
        "print('far:' ,far)\n",
        "\n",
        "\n",
        "# mean_squared_error(Y_testn,predictn)\n",
        "MSE = np.square(np.subtract(Y_testn,predictn)).mean()\n",
        "print(MSE)\n",
        "auc = metrics.roc_auc_score(Y_testn, predictn)\n",
        "\n",
        "#print AUC score\n",
        "print(auc)\n",
        "# from sklearn.metrics import mean_squared_error\n",
        "# print(Y_testn[0:10])\n",
        "# print(predictn[0:10])\n",
        "# mse = tf.keras.losses.MeanSquaredError()\n",
        "# loss = mse(Y_testn,predictn)\n",
        "# print('Loss: ', loss.numpy())  # Loss: 0.75\n",
        "# mean_squared_error(Y_testn, predictn)\n",
        "# print(mean_squared_error)"
      ]
    },
    {
      "cell_type": "markdown",
      "source": [
        "# Heatmap"
      ],
      "metadata": {
        "id": "xS47ZHFRnFQU"
      }
    },
    {
      "cell_type": "code",
      "execution_count": null,
      "metadata": {
        "id": "0Ad719yjxPL2",
        "colab": {
          "base_uri": "https://localhost:8080/",
          "height": 434
        },
        "outputId": "f20ddf99-1b37-4180-c5c8-3ba0f2712b2a"
      },
      "outputs": [
        {
          "output_type": "display_data",
          "data": {
            "text/plain": [
              "<Figure size 640x480 with 2 Axes>"
            ],
            "image/png": "[encoded data removed]"
          },
          "metadata": {}
        }
      ],
      "source": [
        "to_heat_map =[[tn,fp],[fn,tp]]\n",
        "to_heat_map = pd.DataFrame(to_heat_map, index = [\"Attack\",\"Normal\"],columns = [\"Attack\",\"Normal\"])\n",
        "ax = sns.heatmap(to_heat_map,annot=True, fmt=\"d\")"
      ]
    },
    {
      "cell_type": "markdown",
      "metadata": {
        "id": "HjVmwhrmExJs"
      },
      "source": [
        "# Save details"
      ]
    },
    {
      "cell_type": "code",
      "execution_count": null,
      "metadata": {
        "id": "mv1vi3_KfPHE",
        "colab": {
          "base_uri": "https://localhost:8080/"
        },
        "outputId": "85687492-60a9-4ff5-9279-1ad67b57ae30"
      },
      "outputs": [
        {
          "output_type": "stream",
          "name": "stdout",
          "text": [
            "accuracy: 99.96%\n"
          ]
        }
      ],
      "source": [
        "Y_test=Y_test.astype(float)\n",
        "scores = model.evaluate(X_test, Y_test, verbose=0)\n",
        "print(\"%s: %.2f%%\" % (model.metrics_names[1], scores[1]*100))"
      ]
    }
  ],
  "metadata": {
    "colab": {
      "machine_shape": "hm",
      "provenance": [],
      "include_colab_link": true
    },
    "kernelspec": {
      "display_name": "Python 3",
      "name": "python3"
    },
    "language_info": {
      "codemirror_mode": {
        "name": "ipython",
        "version": 3
      },
      "file_extension": ".py",
      "mimetype": "text/x-python",
      "name": "python",
      "nbconvert_exporter": "python",
      "pygments_lexer": "ipython3",
      "version": "3.5.2"
    },
    "accelerator": "TPU"
  },
  "nbformat": 4,
  "nbformat_minor": 0
}